{
 "cells": [
  {
   "cell_type": "markdown",
   "metadata": {},
   "source": [
    "# Algorithms and Machine Learning\n",
    "\n",
    "## Target function\n",
    "\n",
    "One of the most imporant decision we have to make as data scientists is to define what constitutes success. \n",
    "\n",
    "This is an important concept that often gets overlooked. Results depend on our measure of success, and we should be informed about the choices that we made or the function that we are using has made for us.\n",
    "\n",
    "Today, we are going to discuss these concepts with an example with real data."
   ]
  },
  {
   "cell_type": "markdown",
   "metadata": {},
   "source": [
    "As usual, we start by loading the Python packages that we are going to use in the analysis."
   ]
  },
  {
   "cell_type": "code",
   "execution_count": 611,
   "metadata": {},
   "outputs": [],
   "source": [
    "import numpy as np #Package for numerical multidimensional tables\n",
    "import pandas as pd #Package for data frames\n",
    "import matplotlib.pyplot as plt #Package for plots and graphs"
   ]
  },
  {
   "cell_type": "markdown",
   "metadata": {},
   "source": [
    "Over the years, I have had a discussion with colleagues about if Quentin Tarantino is a good director or merely over-hyped.\n",
    "\n",
    "To give the discussion some objective dimension, we decided to look at the ratings from Tarantino's movies through the years. The data comes from Rotten Tomatoes and it is saved in the 'RT_Tarantino.csv' file"
   ]
  },
  {
   "cell_type": "markdown",
   "metadata": {},
   "source": [
    "We first load the data using a pandas data frame. And we print it."
   ]
  },
  {
   "cell_type": "code",
   "execution_count": 612,
   "metadata": {},
   "outputs": [
    {
     "name": "stdout",
     "output_type": "stream",
     "text": [
      "    Rating                                              Title  Year  License\n",
      "0     0.88             What She Said: The Art of Pauline Kael  2019      140\n",
      "1     0.86                                     Friedkin Uncut  2019      110\n",
      "2     0.85                      Once Upon a Time In Hollywood  2019       90\n",
      "3     0.75                                  The Hateful Eight  2015       50\n",
      "4     0.44                               She's Funny That Way  2015      110\n",
      "5     0.87                                   Django Unchained  2012      140\n",
      "6     0.92      Corman's World: Exploits Of A Hollywood Rebel  2011      110\n",
      "7     0.89                               Inglourious Basterds  2009       50\n",
      "8     0.33                                           Killshot  2008       90\n",
      "9     0.56                            Sukiyaki Western Django  2008       50\n",
      "10    0.10                                          Hell Ride  2008       90\n",
      "11    0.95  Not Quite Hollywood: The Wild, Untold Story of...  2008      110\n",
      "12    0.62                                  Diary of the Dead  2007      190\n",
      "13    0.74  Planet Terror (Grindhouse Presents: Robert Rod...  2007      190\n",
      "14    0.44                                     Hostel Part II  2007       50\n",
      "15    0.84                                         Grindhouse  2007       90\n",
      "16    0.64                                        Death Proof  2007       90\n",
      "17    0.61                                             Hostel  2006      110\n",
      "18    0.07                                     Daltry Calhoun  2005      120\n",
      "19    0.30                          The Muppets' Wizard of Oz  2005      110\n",
      "20    0.97                                        Double Dare  2005       90\n",
      "21    0.77                                           Sin City  2005       50\n",
      "22    1.00                 Z Channel: A Magnificent Obsession  2004      110\n",
      "23    0.84                                Kill Bill: Volume 2  2004       90\n",
      "24    0.85                                Kill Bill: Volume 1  2003       90\n",
      "25    0.22                                       Little Nicky  2000      110\n",
      "26    0.22      From Dusk Till Dawn 3: The Hangman's Daughter  2000       50\n",
      "27    0.09           From Dusk Till Dawn 2: Texas Blood Money  1999       50\n",
      "28    0.86                                     God Said 'Ha!'  1998      110\n",
      "29    0.87                                       Jackie Brown  1997      110\n",
      "30    0.88                                   Full Tilt Boogie  1997       90\n",
      "31    0.13                                         Four Rooms  1996       90\n",
      "32    0.17                                            Curdled  1996       50\n",
      "33    0.33                                             Girl 6  1996       50\n",
      "34    0.62                                From Dusk Till Dawn  1996      110\n",
      "35    0.88                                       Crimson Tide  1995      120\n",
      "36    0.17                         Destiny Turns on the Radio  1995      120\n",
      "37    0.15                                      Sleep with Me  1994       90\n",
      "38    0.91                                       Pulp Fiction  1994      110\n",
      "39    0.36                                        Killing Zoe  1994      190\n",
      "40    0.93                                       True Romance  1993       50\n",
      "41    0.92                                     Reservoir Dogs  1992      120\n"
     ]
    }
   ],
   "source": [
    "data = pd.read_csv ('RT_Tarantino.csv')\n",
    "print(data)"
   ]
  },
  {
   "cell_type": "markdown",
   "metadata": {},
   "source": [
    "The dataset inclues ratings, title, year of release, and license cost for all Tarantino movies with a rating in Rotten Tomatoes. The data is presented in descending order through the years."
   ]
  },
  {
   "cell_type": "markdown",
   "metadata": {},
   "source": [
    "The simplest way to decide if Tarantino is a good director is to look at the rating of his latest movie. "
   ]
  },
  {
   "cell_type": "code",
   "execution_count": 613,
   "metadata": {},
   "outputs": [
    {
     "data": {
      "text/plain": [
       "0.88"
      ]
     },
     "execution_count": 613,
     "metadata": {},
     "output_type": "execute_result"
    }
   ],
   "source": [
    "data['Rating'][0]"
   ]
  },
  {
   "cell_type": "markdown",
   "metadata": {},
   "source": [
    "This is certainly a valid measurement but it has some drawbacks. \n",
    "\n",
    "In particular, our whole decision depends on only the latest observation. \n",
    "\n",
    "Thus, it could change widly from year to year. For instance, we could get a completely different result if we had this discussion in 2008."
   ]
  },
  {
   "cell_type": "code",
   "execution_count": 614,
   "metadata": {},
   "outputs": [
    {
     "name": "stdout",
     "output_type": "stream",
     "text": [
      "    Rating                                              Title  Year  License\n",
      "8     0.33                                           Killshot  2008       90\n",
      "9     0.56                            Sukiyaki Western Django  2008       50\n",
      "10    0.10                                          Hell Ride  2008       90\n",
      "11    0.95  Not Quite Hollywood: The Wild, Untold Story of...  2008      110\n",
      "12    0.62                                  Diary of the Dead  2007      190\n",
      "13    0.74  Planet Terror (Grindhouse Presents: Robert Rod...  2007      190\n",
      "14    0.44                                     Hostel Part II  2007       50\n",
      "15    0.84                                         Grindhouse  2007       90\n",
      "16    0.64                                        Death Proof  2007       90\n",
      "17    0.61                                             Hostel  2006      110\n",
      "18    0.07                                     Daltry Calhoun  2005      120\n",
      "19    0.30                          The Muppets' Wizard of Oz  2005      110\n",
      "20    0.97                                        Double Dare  2005       90\n",
      "21    0.77                                           Sin City  2005       50\n",
      "22    1.00                 Z Channel: A Magnificent Obsession  2004      110\n",
      "23    0.84                                Kill Bill: Volume 2  2004       90\n",
      "24    0.85                                Kill Bill: Volume 1  2003       90\n",
      "25    0.22                                       Little Nicky  2000      110\n",
      "26    0.22      From Dusk Till Dawn 3: The Hangman's Daughter  2000       50\n",
      "27    0.09           From Dusk Till Dawn 2: Texas Blood Money  1999       50\n",
      "28    0.86                                     God Said 'Ha!'  1998      110\n",
      "29    0.87                                       Jackie Brown  1997      110\n",
      "30    0.88                                   Full Tilt Boogie  1997       90\n",
      "31    0.13                                         Four Rooms  1996       90\n",
      "32    0.17                                            Curdled  1996       50\n",
      "33    0.33                                             Girl 6  1996       50\n",
      "34    0.62                                From Dusk Till Dawn  1996      110\n",
      "35    0.88                                       Crimson Tide  1995      120\n",
      "36    0.17                         Destiny Turns on the Radio  1995      120\n",
      "37    0.15                                      Sleep with Me  1994       90\n",
      "38    0.91                                       Pulp Fiction  1994      110\n",
      "39    0.36                                        Killing Zoe  1994      190\n",
      "40    0.93                                       True Romance  1993       50\n",
      "41    0.92                                     Reservoir Dogs  1992      120\n"
     ]
    }
   ],
   "source": [
    "list2008 = data[['Rating','Title','Year','License']][data['Year']<=2008]\n",
    "print(list2008)"
   ]
  },
  {
   "cell_type": "markdown",
   "metadata": {},
   "source": [
    "As before, we look at the last rating available."
   ]
  },
  {
   "cell_type": "code",
   "execution_count": 615,
   "metadata": {},
   "outputs": [
    {
     "name": "stdout",
     "output_type": "stream",
     "text": [
      "Rating         0.33\n",
      "Title      Killshot\n",
      "Year           2008\n",
      "License          90\n",
      "Name: 8, dtype: object\n"
     ]
    }
   ],
   "source": [
    "print(list2008.iloc[0]) "
   ]
  },
  {
   "cell_type": "markdown",
   "metadata": {},
   "source": [
    "Instead of looking at the last rating we could look at the average rating for the last year."
   ]
  },
  {
   "cell_type": "code",
   "execution_count": 616,
   "metadata": {},
   "outputs": [
    {
     "name": "stdout",
     "output_type": "stream",
     "text": [
      "0.8633333333333333\n",
      "0.485\n"
     ]
    }
   ],
   "source": [
    "decision2019 = np.mean(data['Rating'][data['Year']==2019])\n",
    "print(decision2019)"
   ]
  },
  {
   "cell_type": "markdown",
   "metadata": {},
   "source": [
    "Or some other year of your choice."
   ]
  },
  {
   "cell_type": "code",
   "execution_count": null,
   "metadata": {},
   "outputs": [],
   "source": [
    "decision2008 = np.mean(data['Rating'][data['Year']==2008])\n",
    "print(decision2008)"
   ]
  },
  {
   "cell_type": "markdown",
   "metadata": {},
   "source": [
    "Alternatively, we could consider the average for all his movies."
   ]
  },
  {
   "cell_type": "code",
   "execution_count": 617,
   "metadata": {},
   "outputs": [
    {
     "data": {
      "text/plain": [
       "0.6142857142857142"
      ]
     },
     "execution_count": 617,
     "metadata": {},
     "output_type": "execute_result"
    }
   ],
   "source": [
    "np.mean(data['Rating'])"
   ]
  },
  {
   "cell_type": "markdown",
   "metadata": {},
   "source": [
    "Considering all the data makes the measurement fairer in the sense that does not depent too much on anyone observation. \n",
    "\n",
    "Nonetheless, we may miss some important dynamics of his movies. Like, maybe Tarantino is directing better-rated movies now that when he started filming.\n",
    "\n",
    "As with most methods in statistical analysis, there are trade-offs to all decisions."
   ]
  },
  {
   "cell_type": "markdown",
   "metadata": {},
   "source": [
    "## Fitting a Model"
   ]
  },
  {
   "cell_type": "markdown",
   "metadata": {},
   "source": [
    "Looking at the results through the years, there seems to be an increasing trend in the ratings. \n",
    "\n",
    "We can plot the data to *see* if our intention is correct."
   ]
  },
  {
   "cell_type": "code",
   "execution_count": 618,
   "metadata": {
    "scrolled": false
   },
   "outputs": [
    {
     "data": {
      "text/plain": [
       "<matplotlib.collections.PathCollection at 0x1ec7bb999d0>"
      ]
     },
     "execution_count": 618,
     "metadata": {},
     "output_type": "execute_result"
    },
    {
     "data": {
      "image/png": "[encoded data removed]",
      "text/plain": [
       "<Figure size 432x288 with 1 Axes>"
      ]
     },
     "metadata": {
      "needs_background": "light"
     },
     "output_type": "display_data"
    }
   ],
   "source": [
    "plt.scatter(data['Year'],data['Rating'])"
   ]
  },
  {
   "cell_type": "markdown",
   "metadata": {},
   "source": [
    "There does seems to be a slightly increasing trend on the ratings. Notice how the last movies have obtained hight ratings.\n",
    "\n",
    "We may be able to model this trend using a simple line.\n",
    "\n",
    "Thus, we try to *fit* the model\n",
    "$$Rating_i = \\alpha + \\beta Year_i + \\epsilon_i,$$\n",
    "where $\\alpha$ and $\\beta$ are selected according to some fit criteria. "
   ]
  },
  {
   "cell_type": "markdown",
   "metadata": {
    "scrolled": true
   },
   "source": [
    "In the linear model above, the $\\epsilon_i$ allows us to capture random variations in the data that may not be explained using the linear fit.\n",
    "\n",
    "Thus, one intuitive way to select $\\alpha$ and $\\beta$ is to make them minimize the unexplained variations, $\\epsilon_i$. \n",
    "\n",
    "Let us call $\\widehat{Rating}_i$ to the rating assigned by the linear model. We may thus look to minimize\n",
    "$$\\min_{\\alpha,\\beta} \\epsilon_i = \\min_{\\alpha,\\beta} Rating_i-\\widehat{Rating}_i = \\min_{\\alpha,\\beta} Rating_i-\\alpha-\\beta Year_i$$"
   ]
  },
  {
   "cell_type": "markdown",
   "metadata": {},
   "source": [
    "There are two possible drawbacks with the above problem statement:\n",
    "* It is only based on one observation\n",
    "* It will get us undetermined solutions\n",
    "\n",
    "Why?\n",
    "\n",
    "* As was the case before with the simple mean, making our decision looking at just one observation may result in wildly different results depending on which observation we are looking at. So instead, we could take some certain combination of more values.\n",
    "* Notice that if we make $\\alpha$ smaller and smaller we get smaller values for $\\epsilon_i$. "
   ]
  },
  {
   "cell_type": "markdown",
   "metadata": {},
   "source": [
    "## Loss Function"
   ]
  },
  {
   "cell_type": "markdown",
   "metadata": {},
   "source": [
    "Thus, we must decide on a proper **loss function**.\n",
    "\n",
    "Our choice regarding the number and characteristics of the observations used, and the function used to weight them, produce different results.\n",
    "\n",
    "The classical linear regression proposes the loss function:\n",
    "$$\\mathcal{L}(\\alpha,\\beta) = \\sum_{i=1}^N (Rating_i-\\alpha-\\beta Year_i)^2,$$\n",
    "where $N$ is the number of observations used in the computations."
   ]
  },
  {
   "cell_type": "markdown",
   "metadata": {},
   "source": [
    "Notice that nothing forces us to choose the square as the weighting function, we could have used absolute value or a higher degree polynomial."
   ]
  },
  {
   "cell_type": "markdown",
   "metadata": {},
   "source": [
    "Once we have selected our fit criteria (or loss function), we should decide how are we going to solve it. \n",
    "\n",
    "In this case, solving it translates to mininize the loss function.\n",
    "\n",
    "There are several options to look for a solution depending on the complexity of the problem at hand:\n",
    "* Try different combinations of $\\alpha$ and $\\beta$ and select the one with the smallest loss.\n",
    "* Start on a (possibly random) combination and use the data itself to point us to a better combination.\n",
    "* Solve the problem analytically. "
   ]
  },
  {
   "cell_type": "markdown",
   "metadata": {},
   "source": [
    "## Grid Search\n",
    "\n",
    "We start with the more intuitive way to look for a solution: grid search.\n",
    "\n",
    "The idea behind grid search is to set up a list or *grid* of values and then *search* for the optimal one. \n",
    "\n",
    "That is, we set a list of possible values for $\\alpha$ and $\\beta$, evaluate the loss function on them, and select the one that achieves the smallest values"
   ]
  },
  {
   "cell_type": "code",
   "execution_count": 619,
   "metadata": {},
   "outputs": [],
   "source": [
    "params = [[0.2, 0.0001], [0.2, 0.00005], [0.5, 0.0001], [0.5,0.00005]]\n",
    "\n",
    "Ratings = data['Rating']\n",
    "Year = data['Year']"
   ]
  },
  {
   "cell_type": "code",
   "execution_count": 620,
   "metadata": {},
   "outputs": [
    {
     "name": "stdout",
     "output_type": "stream",
     "text": [
      "[5.87112315, 8.0952042875, 4.260423150000001, 3.9598542875000007]\n"
     ]
    }
   ],
   "source": [
    "gs = []\n",
    "gs.append(sum( (Ratings-params[0][0]-params[0][1]*Year)**2))\n",
    "gs.append(sum( (Ratings-params[1][0]-params[1][1]*Year)**2))\n",
    "gs.append(sum( (Ratings-params[2][0]-params[2][1]*Year)**2))\n",
    "gs.append(sum( (Ratings-params[3][0]-params[3][1]*Year)**2))\n",
    "print(gs)"
   ]
  },
  {
   "cell_type": "code",
   "execution_count": 621,
   "metadata": {},
   "outputs": [
    {
     "name": "stdout",
     "output_type": "stream",
     "text": [
      "3.9598542875000007\n",
      "3\n"
     ]
    }
   ],
   "source": [
    "print(min(gs))\n",
    "print(np.argmin(gs))\n",
    "est_par = params[np.argmin(gs)]"
   ]
  },
  {
   "cell_type": "markdown",
   "metadata": {},
   "source": [
    "We plot the fitted model using the estimated parameters."
   ]
  },
  {
   "cell_type": "code",
   "execution_count": 622,
   "metadata": {},
   "outputs": [
    {
     "data": {
      "text/plain": [
       "[<matplotlib.lines.Line2D at 0x1ec7bc6ccd0>]"
      ]
     },
     "execution_count": 622,
     "metadata": {},
     "output_type": "execute_result"
    },
    {
     "data": {
      "image/png": "[encoded data removed]",
      "text/plain": [
       "<Figure size 432x288 with 1 Axes>"
      ]
     },
     "metadata": {
      "needs_background": "light"
     },
     "output_type": "display_data"
    }
   ],
   "source": [
    "plt.scatter(data['Year'],data['Rating'])\n",
    "plt.plot([1992, 2019],[est_par[0]+est_par[1]*1992, est_par[0]+est_par[1]*2019],'k-')"
   ]
  },
  {
   "cell_type": "markdown",
   "metadata": {},
   "source": [
    "We can try more values easily dy defining a function."
   ]
  },
  {
   "cell_type": "code",
   "execution_count": 623,
   "metadata": {},
   "outputs": [
    {
     "data": {
      "text/plain": [
       "11.144923150000002"
      ]
     },
     "execution_count": 623,
     "metadata": {},
     "output_type": "execute_result"
    }
   ],
   "source": [
    "def loss_function(params,Ratings,Year):\n",
    "    loss = sum( (Ratings-params[0]-params[1]*Year)**2)\n",
    "    return(loss)\n",
    "\n",
    "loss_function([0,0.0001],Ratings,Year)"
   ]
  },
  {
   "cell_type": "markdown",
   "metadata": {},
   "source": [
    "We can then make a list as big as we want to make the grid search."
   ]
  },
  {
   "cell_type": "code",
   "execution_count": 624,
   "metadata": {},
   "outputs": [
    {
     "name": "stdout",
     "output_type": "stream",
     "text": [
      "[5.87112315, 8.0952042875, 4.260423150000001, 3.9598542875000007, 11.144923150000002, 15.052104287499997, 8.088023150000001, 11.153654287499997]\n"
     ]
    }
   ],
   "source": [
    "params = [[0.2, 0.0001], [0.2, 0.00005], [0.5, 0.0001], [0.5,0.00005],[0, 0.0001], [0, 0.00005], [0.1, 0.0001], [0.1,0.00005]]\n",
    "n = len(params)\n",
    "\n",
    "results = []\n",
    "for i in range(0,n):\n",
    "    results.append(loss_function(params[i],Ratings,Year))\n",
    "\n",
    "print(results)"
   ]
  },
  {
   "cell_type": "markdown",
   "metadata": {},
   "source": [
    "And we plot the line using the new estimates."
   ]
  },
  {
   "cell_type": "code",
   "execution_count": 625,
   "metadata": {},
   "outputs": [
    {
     "data": {
      "text/plain": [
       "[<matplotlib.lines.Line2D at 0x1ec7bcc1640>]"
      ]
     },
     "execution_count": 625,
     "metadata": {},
     "output_type": "execute_result"
    },
    {
     "data": {
      "image/png": "[encoded data removed]",
      "text/plain": [
       "<Figure size 432x288 with 1 Axes>"
      ]
     },
     "metadata": {
      "needs_background": "light"
     },
     "output_type": "display_data"
    }
   ],
   "source": [
    "est_par = params[np.argmin(results)]\n",
    "plt.scatter(data['Year'],data['Rating'])\n",
    "plt.plot([1992, 2019],[est_par[0]+est_par[1]*1992, est_par[0]+est_par[1]*2019],'k-')"
   ]
  },
  {
   "cell_type": "markdown",
   "metadata": {},
   "source": [
    "## Gradient Descent"
   ]
  },
  {
   "cell_type": "markdown",
   "metadata": {},
   "source": [
    "Another possible solution to our minimization algorithm is to start at a (possibly random) value and let the data itself tell us how to improve the fit. \n",
    "\n",
    "Mathematically, we know that the function decreases in the opposite direction of the derivative. This motivates to look for improvement in our loss function in the direction of the derivative.\n",
    "\n",
    "Thus, starting from some initial values, we update them as follows:\n",
    "\n",
    "$$\\alpha^{new} = \\alpha^{old}-\\frac{\\mathcal{L}(\\alpha,\\beta)}{\\partial{\\mathcal{L}(\\alpha,\\beta)}/\\partial{\\alpha}},$$\n",
    "$$\\beta^{new} = \\beta^{old}-\\frac{\\mathcal{L}(\\alpha,\\beta)}{\\partial{\\mathcal{L}(\\alpha,\\beta)}/\\partial{\\beta}},$$\n",
    "and we iterate until our parameters do not change (too much)."
   ]
  },
  {
   "cell_type": "markdown",
   "metadata": {},
   "source": [
    "For our purposes, we have already obtained the derivatives, they are given by:\n",
    "\n",
    "$$\\frac{\\partial{\\mathcal{L}(\\alpha,\\beta)}}{\\partial{\\alpha}} = -2\\sum_{i=1}^N(Rating_i-\\alpha-\\beta Year_i),$$\n",
    "$$\\frac{\\partial{\\mathcal{L}(\\alpha,\\beta)}}{\\partial{\\beta}} = -2\\sum_{i=1}^N(Rating_i-\\alpha-\\beta Year_i)Year_i,$$\n",
    "\n",
    "Which we define in Python below."
   ]
  },
  {
   "cell_type": "code",
   "execution_count": 626,
   "metadata": {},
   "outputs": [],
   "source": [
    "def gradient_alpha(params,Ratings,Year):\n",
    "    galpha = -2*sum( (Ratings-params[0]-params[1]*Year) )\n",
    "    return(galpha)\n",
    "\n",
    "def gradient_beta(params,Ratings,Year):\n",
    "    gbeta = -2*sum( (Ratings-params[0]-params[1]*Year)*Year)\n",
    "    return(gbeta)"
   ]
  },
  {
   "cell_type": "markdown",
   "metadata": {},
   "source": [
    "With the newly defined functions, we can update the values of our estimates."
   ]
  },
  {
   "cell_type": "code",
   "execution_count": 627,
   "metadata": {},
   "outputs": [
    {
     "name": "stdout",
     "output_type": "stream",
     "text": [
      "[3.8430597615027433, 0.0016864599702409544]\n"
     ]
    }
   ],
   "source": [
    "alpha_new = est_par[0] - loss_function(est_par,Ratings,Year)/gradient_alpha(est_par,Ratings,Year)\n",
    "beta_new = est_par[1] - loss_function(est_par,Ratings,Year)/gradient_beta(est_par,Ratings,Year)\n",
    "\n",
    "print([alpha_new, beta_new])\n",
    "est_par = [alpha_new, beta_new]"
   ]
  },
  {
   "cell_type": "markdown",
   "metadata": {},
   "source": [
    "And we can plot the results with the last updated values."
   ]
  },
  {
   "cell_type": "code",
   "execution_count": 628,
   "metadata": {},
   "outputs": [
    {
     "name": "stdout",
     "output_type": "stream",
     "text": [
      "[3.8430597615027433, 0.0016864599702409544]\n"
     ]
    },
    {
     "data": {
      "text/plain": [
       "[<matplotlib.lines.Line2D at 0x1ec7bcf06d0>]"
      ]
     },
     "execution_count": 628,
     "metadata": {},
     "output_type": "execute_result"
    },
    {
     "data": {
      "image/png": "[encoded data removed]",
      "text/plain": [
       "<Figure size 432x288 with 1 Axes>"
      ]
     },
     "metadata": {
      "needs_background": "light"
     },
     "output_type": "display_data"
    }
   ],
   "source": [
    "print(est_par)\n",
    "plt.scatter(data['Year'],data['Rating'])\n",
    "plt.plot([1992, 2019],[est_par[0]+est_par[1]*1992, est_par[0]+est_par[1]*2019],'k-')"
   ]
  },
  {
   "cell_type": "markdown",
   "metadata": {},
   "source": [
    "More efficiently, we can set a *for* loop to update the values."
   ]
  },
  {
   "cell_type": "code",
   "execution_count": 629,
   "metadata": {},
   "outputs": [
    {
     "name": "stdout",
     "output_type": "stream",
     "text": [
      "[0.6626835477523896, 9.494230979334626e-05]\n"
     ]
    },
    {
     "data": {
      "text/plain": [
       "[<matplotlib.lines.Line2D at 0x1ec7bd67490>]"
      ]
     },
     "execution_count": 629,
     "metadata": {},
     "output_type": "execute_result"
    },
    {
     "data": {
      "image/png": "[encoded data removed]",
      "text/plain": [
       "<Figure size 432x288 with 1 Axes>"
      ]
     },
     "metadata": {
      "needs_background": "light"
     },
     "output_type": "display_data"
    }
   ],
   "source": [
    "est_par = [0.2,0.00001]\n",
    "for i in range(1,1000):\n",
    "    alpha_new = est_par[0] - loss_function(est_par,Ratings,Year)/gradient_alpha(est_par,Ratings,Year)\n",
    "    beta_new = est_par[1] - loss_function(est_par,Ratings,Year)/gradient_beta(est_par,Ratings,Year)\n",
    "    est_par = [alpha_new, beta_new]\n"
   ]
  },
  {
   "cell_type": "markdown",
   "metadata": {},
   "source": [
    "And we plot the results with the last update."
   ]
  },
  {
   "cell_type": "code",
   "execution_count": null,
   "metadata": {},
   "outputs": [],
   "source": [
    "print(est_par)\n",
    "plt.scatter(data['Year'],data['Rating'])\n",
    "plt.plot([1992, 2019],[est_par[0]+est_par[1]*1992, est_par[0]+est_par[1]*2019],'k-')"
   ]
  },
  {
   "cell_type": "markdown",
   "metadata": {},
   "source": [
    "## Analytical Solution"
   ]
  },
  {
   "cell_type": "markdown",
   "metadata": {},
   "source": [
    "For some problems, we may be able to obtain the analytical solution with pen and paper. \n",
    "\n",
    "Turns out, this is one of those examples. \n",
    "\n",
    "The solution is given by:\n",
    "\n",
    "$$\\hat{\\beta} = \\frac{ \\sum_{i=1}^N(Rating_i-\\overline{Rating})(Year_i-\\overline{Year})}{\\sum_{i=1}^N(Year_i-\\overline{Year})^2}$$\n",
    "\n",
    "$$\\hat{\\alpha} = \\overline{Rating}-\\hat{\\beta}\\overline{Year},$$\n",
    "where the bar on top means average."
   ]
  },
  {
   "cell_type": "markdown",
   "metadata": {},
   "source": [
    "We program this into Python to obtain the analytical solutions."
   ]
  },
  {
   "cell_type": "code",
   "execution_count": 630,
   "metadata": {},
   "outputs": [
    {
     "name": "stdout",
     "output_type": "stream",
     "text": [
      "[-19.32508663177684, 0.009951323611605101]\n"
     ]
    }
   ],
   "source": [
    "beta_sol = sum( (Ratings-np.mean(Ratings))* (Year-np.mean(Year)) )/ sum( (Year-np.mean(Year))**2 )\n",
    "alpha_sol = np.mean(Ratings)-beta_sol*np.mean(Year)\n",
    "est_par = [alpha_sol,beta_sol]\n",
    "print(est_par)"
   ]
  },
  {
   "cell_type": "markdown",
   "metadata": {},
   "source": [
    "And we plot the resulting model."
   ]
  },
  {
   "cell_type": "code",
   "execution_count": 631,
   "metadata": {},
   "outputs": [
    {
     "name": "stdout",
     "output_type": "stream",
     "text": [
      "[-19.32508663177684, 0.009951323611605101]\n"
     ]
    },
    {
     "data": {
      "text/plain": [
       "[<matplotlib.lines.Line2D at 0x1ec7bdab970>]"
      ]
     },
     "execution_count": 631,
     "metadata": {},
     "output_type": "execute_result"
    },
    {
     "data": {
      "image/png": "[encoded data removed]",
      "text/plain": [
       "<Figure size 432x288 with 1 Axes>"
      ]
     },
     "metadata": {
      "needs_background": "light"
     },
     "output_type": "display_data"
    }
   ],
   "source": [
    "print(est_par)\n",
    "plt.scatter(data['Year'],data['Rating'])\n",
    "plt.plot([1992, 2019],[est_par[0]+est_par[1]*1992, est_par[0]+est_par[1]*2019],'k-')"
   ]
  },
  {
   "cell_type": "markdown",
   "metadata": {},
   "source": [
    "Exercise: What about the license cost to watch the movie?"
   ]
  },
  {
   "cell_type": "code",
   "execution_count": 632,
   "metadata": {},
   "outputs": [
    {
     "data": {
      "text/plain": [
       "<matplotlib.collections.PathCollection at 0x1ec7bdefca0>"
      ]
     },
     "execution_count": 632,
     "metadata": {},
     "output_type": "execute_result"
    },
    {
     "data": {
      "image/png": "[encoded data removed]",
      "text/plain": [
       "<Figure size 432x288 with 1 Axes>"
      ]
     },
     "metadata": {
      "needs_background": "light"
     },
     "output_type": "display_data"
    }
   ],
   "source": [
    "plt.scatter(data['License'],data['Rating'])"
   ]
  },
  {
   "cell_type": "markdown",
   "metadata": {},
   "source": [
    "# Statistical Analysis\n",
    "\n",
    "The analysis above, gave us some values for the parameters in the linear model we considered. \n",
    "\n",
    "In particular, we found a positive value for the effect that $Year$ has on $Rating$; thus, it may seem that Tarantino's movies have been better received on average as times goes by. \n",
    "\n",
    "Yet, we may be interested in knowing if this result is a fluke (something due to chance given that we *randomly* decided to run the experiment *today*), or if there is perhaps some true better reception to his movies."
   ]
  },
  {
   "cell_type": "markdown",
   "metadata": {},
   "source": [
    "Hence, we would like to be able to say if the *positive* effect that $Year$ has on $Rating$ is **statistically significant**.\n",
    "\n",
    "There are two *cultures* regarding how to analyze if a result is significant:\n",
    "* Make a set of assumptions regarding the data and obtain analytical results\n",
    "* Use the data itself to check for the significance of the results\n",
    "\n",
    "As before, the methods above have advantages and disadvantages. "
   ]
  },
  {
   "cell_type": "markdown",
   "metadata": {},
   "source": [
    "### Normality Assumption\n",
    "\n",
    "If we are willing to assume that our data follows a specific probability distribution (typically a Normal distribution), then we know that the estimated parameter follows a Normal distribution. In particular\n",
    "\n",
    "$$\\hat{\\beta}\\sim \\mathcal{N}(\\beta,\\sigma^2_\\beta)$$\n",
    "\n",
    "Which tells us that our estimate is going to fall around the *true* value. \n",
    "\n",
    "Now, if the true value is non-zero, that would make it more likely that our estimate is non-zero. \n",
    "\n",
    "Moreover, the variance (how far our estimate can fall from the true value) decreases with the sample size. Thus, if our data is large enough, we can be quite certain of our results.\n",
    "\n",
    "Using the formula above, we can then compute the probability that it is non-zero by pure chance. \n",
    "\n",
    "If that probability is really small, we may be inclined to say that it is not just a random result but a true non-zero value."
   ]
  },
  {
   "cell_type": "markdown",
   "metadata": {},
   "source": [
    "For our purposes, the variance of $\\hat{\\beta}$ can be obtained by\n",
    "\n",
    "$$\\sigma^2_\\beta = \\frac{ \\mathcal{L}(\\hat{\\alpha},\\hat{\\beta})/(N-2)}{\\sum_{i=1}^N(Year_i-\\overline{Year})^2}$$"
   ]
  },
  {
   "cell_type": "code",
   "execution_count": 633,
   "metadata": {},
   "outputs": [
    {
     "name": "stdout",
     "output_type": "stream",
     "text": [
      "3.971237915758841e-05\n"
     ]
    }
   ],
   "source": [
    "sigma_beta = ( loss_function(est_par,Ratings,Year)/(len(Ratings)-2) )/ ( sum( (Year-np.mean(Year))**2 ) )\n",
    "print(sigma_beta)"
   ]
  },
  {
   "cell_type": "markdown",
   "metadata": {},
   "source": [
    "We then plot a Normal distribution with mean 0 and variance given above."
   ]
  },
  {
   "cell_type": "code",
   "execution_count": 634,
   "metadata": {},
   "outputs": [
    {
     "data": {
      "text/plain": [
       "[<matplotlib.lines.Line2D at 0x1ec7a3a2d00>]"
      ]
     },
     "execution_count": 634,
     "metadata": {},
     "output_type": "execute_result"
    },
    {
     "data": {
      "image/png": "[encoded data removed]",
      "text/plain": [
       "<Figure size 432x288 with 1 Axes>"
      ]
     },
     "metadata": {
      "needs_background": "light"
     },
     "output_type": "display_data"
    }
   ],
   "source": [
    "from scipy.stats import norm\n",
    "import matplotlib.pyplot as plt\n",
    "x = np.linspace(norm.ppf(0.001,loc=est_par[1],scale=sigma_beta), norm.ppf(0.999,loc=est_par[1],scale=sigma_beta), 100)\n",
    "\n",
    "plt.plot(x, norm.pdf(x,loc=est_par[1],scale=sigma_beta))\n",
    "plt.plot(est_par[1],0,'*r',lw=5)"
   ]
  },
  {
   "cell_type": "markdown",
   "metadata": {},
   "source": [
    "We can check graphically if the zero value is a likely result."
   ]
  },
  {
   "cell_type": "code",
   "execution_count": 645,
   "metadata": {},
   "outputs": [
    {
     "data": {
      "text/plain": [
       "[<matplotlib.lines.Line2D at 0x1ec7d3c7dc0>]"
      ]
     },
     "execution_count": 645,
     "metadata": {},
     "output_type": "execute_result"
    },
    {
     "data": {
      "image/png": "[encoded data removed]",
      "text/plain": [
       "<Figure size 432x288 with 1 Axes>"
      ]
     },
     "metadata": {
      "needs_background": "light"
     },
     "output_type": "display_data"
    }
   ],
   "source": [
    "plt.plot(x, norm.pdf(x,loc=est_par[1],scale=sigma_beta))\n",
    "plt.plot(est_par[1],0,'*r',lw=5)\n",
    "plt.plot(0,0,'+k',lw=5)"
   ]
  },
  {
   "cell_type": "markdown",
   "metadata": {},
   "source": [
    "As previously noted, this result relies on the Normality assumption. \n",
    "\n",
    "We should check if the data seems to follow a Normal distribution."
   ]
  },
  {
   "cell_type": "code",
   "execution_count": 635,
   "metadata": {},
   "outputs": [
    {
     "data": {
      "text/plain": [
       "(array([ 5.,  4.,  3.,  3.,  0.,  4.,  1.,  3., 12.,  7.]),\n",
       " array([0.07 , 0.163, 0.256, 0.349, 0.442, 0.535, 0.628, 0.721, 0.814,\n",
       "        0.907, 1.   ]),\n",
       " <a list of 10 Patch objects>)"
      ]
     },
     "execution_count": 635,
     "metadata": {},
     "output_type": "execute_result"
    },
    {
     "data": {
      "image/png": "[encoded data removed]",
      "text/plain": [
       "<Figure size 432x288 with 1 Axes>"
      ]
     },
     "metadata": {
      "needs_background": "light"
     },
     "output_type": "display_data"
    }
   ],
   "source": [
    "plt.hist(data['Rating'],bins=10)"
   ]
  },
  {
   "cell_type": "markdown",
   "metadata": {},
   "source": [
    "Does it look Normal? \n",
    "\n",
    "What about $Year$?"
   ]
  },
  {
   "cell_type": "code",
   "execution_count": 636,
   "metadata": {},
   "outputs": [
    {
     "data": {
      "text/plain": [
       "(array([ 5.,  8.,  4.,  0.,  7., 10.,  1.,  2.,  2.,  3.]),\n",
       " array([1992. , 1994.7, 1997.4, 2000.1, 2002.8, 2005.5, 2008.2, 2010.9,\n",
       "        2013.6, 2016.3, 2019. ]),\n",
       " <a list of 10 Patch objects>)"
      ]
     },
     "execution_count": 636,
     "metadata": {},
     "output_type": "execute_result"
    },
    {
     "data": {
      "image/png": "[encoded data removed]",
      "text/plain": [
       "<Figure size 432x288 with 1 Axes>"
      ]
     },
     "metadata": {
      "needs_background": "light"
     },
     "output_type": "display_data"
    }
   ],
   "source": [
    "plt.hist(data['Year'],bins=10)"
   ]
  },
  {
   "cell_type": "markdown",
   "metadata": {},
   "source": [
    "Now, even if the data does not follow a Normal distribution, it can be shown that *asymptotically* it approximates it. \n",
    "\n",
    "So if the sample is big, the analysis above may still be valid."
   ]
  },
  {
   "cell_type": "markdown",
   "metadata": {},
   "source": [
    "### Empirical Distributions"
   ]
  },
  {
   "cell_type": "markdown",
   "metadata": {},
   "source": [
    "For certain exercises, and when the data is far from being Normal, we can use the data itself to get some sense of the statistical validity of our results.\n",
    "\n",
    "Right now, we are producing just one general estimate of the parameters. As we did before, what if we could construct several estimates and study if they differ too much from each other.\n",
    "\n",
    "To generate more estimates we need new datasets. The data at hand is of course limited, we do not have an infinite number of Tarantino movies to obtain a bunch of parameter estimates. \n",
    "\n",
    "One way to generate more estimates from the fixed dataset is to randomly select a subset of the data, solve the model and obtain parameter estimates. If we do this enough times, we can construct an empirical distribution of the parameter.\n",
    "\n",
    "There are two main ways to generate *new* datasets from the data:\n",
    "* Drop some observations and estimate the model on the rest. We then repeat the experiment dropping another groups of observations. We typically drop just one observation, thus the name **leave-one-out**.\n",
    "* Randomly select a sample of the same size as the original by selection with replacement from the original dataset. The method is called **bootstrap**.\n"
   ]
  },
  {
   "cell_type": "markdown",
   "metadata": {},
   "source": [
    "#### Leave-one-out\n",
    "\n",
    "We start with leave-one-out. We can sequenttially drop one observation, make the analysis in the rest of the data and store the parameter estimates."
   ]
  },
  {
   "cell_type": "code",
   "execution_count": 637,
   "metadata": {},
   "outputs": [
    {
     "name": "stdout",
     "output_type": "stream",
     "text": [
      "[0.009105871163794112, 0.009255027952399738, 0.009329606346702558, 0.009829970228250096, 0.01145363325614733, 0.009303149352740374, 0.009188961606514725, 0.00942747528404899, 0.010572825927247552, 0.010135912344409241, 0.011009739510085862, 0.009395058877857321, 0.009990899771971304, 0.009816426434593427, 0.010252609778038128, 0.00967103198677853, 0.00996182088240833, 0.009978922765500114, 0.01027065319304094, 0.010138868632149182, 0.009754974476507968, 0.009869569746848631, 0.009899539861333786, 0.009921193445626612, 0.01002457258282835, 0.00937092889307781, 0.00937092889307781, 0.00896234942925014, 0.010714346053937625, 0.010912913295534179, 0.010942749145271923, 0.008543888520806174, 0.00868195516040095, 0.009234221718780054, 0.01023520485584219, 0.01133523522445903, 0.008545376251480242, 0.008326060053409762, 0.011683927136933066, 0.009253891747541201, 0.012028007275755514, 0.012245632293350467]\n"
     ]
    }
   ],
   "source": [
    "params_loo = []\n",
    "n = len(data)\n",
    "\n",
    "for i in range(0,n):\n",
    "    aux_data = data\n",
    "    aux_data = aux_data.drop(i)\n",
    "    Ratings = aux_data['Rating']\n",
    "    Year = aux_data['Year']\n",
    "    beta_sol = sum( (Ratings-np.mean(Ratings))* (Year-np.mean(Year)) )/ sum( (Year-np.mean(Year))**2 )\n",
    "    params_loo.append(beta_sol)\n",
    "\n",
    "print(params_loo)"
   ]
  },
  {
   "cell_type": "code",
   "execution_count": 638,
   "metadata": {},
   "outputs": [
    {
     "data": {
      "text/plain": [
       "[<matplotlib.lines.Line2D at 0x1ec7a21c4c0>]"
      ]
     },
     "execution_count": 638,
     "metadata": {},
     "output_type": "execute_result"
    },
    {
     "data": {
      "image/png": "[encoded data removed]",
      "text/plain": [
       "<Figure size 432x288 with 1 Axes>"
      ]
     },
     "metadata": {
      "needs_background": "light"
     },
     "output_type": "display_data"
    }
   ],
   "source": [
    "plt.hist(params_loo)\n",
    "plt.plot(0,0,'*b')"
   ]
  },
  {
   "cell_type": "markdown",
   "metadata": {},
   "source": [
    "We obtain the mean and variance of the estimates."
   ]
  },
  {
   "cell_type": "code",
   "execution_count": 639,
   "metadata": {},
   "outputs": [
    {
     "name": "stdout",
     "output_type": "stream",
     "text": [
      "0.009951093603731698\n",
      "8.402764002498839e-07\n"
     ]
    }
   ],
   "source": [
    "print(np.mean(params_loo))\n",
    "print(np.var(params_loo))"
   ]
  },
  {
   "cell_type": "markdown",
   "metadata": {},
   "source": [
    "#### Bootstrap"
   ]
  },
  {
   "cell_type": "code",
   "execution_count": 640,
   "metadata": {},
   "outputs": [],
   "source": [
    "params_boot = []\n",
    "\n",
    "for i in range(0,1000):\n",
    "    subsample = np.random.choice(range(0,n),n)\n",
    "    aux_data = data.iloc[subsample][:]\n",
    "    Ratings = aux_data['Rating']\n",
    "    Year = aux_data['Year']\n",
    "    beta_sol = sum( (Ratings-np.mean(Ratings))* (Year-np.mean(Year)) )/ sum( (Year-np.mean(Year))**2 )\n",
    "    params_boot.append(beta_sol)"
   ]
  },
  {
   "cell_type": "code",
   "execution_count": 641,
   "metadata": {},
   "outputs": [
    {
     "data": {
      "text/plain": [
       "[<matplotlib.lines.Line2D at 0x1ec783ff790>]"
      ]
     },
     "execution_count": 641,
     "metadata": {},
     "output_type": "execute_result"
    },
    {
     "data": {
      "image/png": "[encoded data removed]",
      "text/plain": [
       "<Figure size 432x288 with 1 Axes>"
      ]
     },
     "metadata": {
      "needs_background": "light"
     },
     "output_type": "display_data"
    }
   ],
   "source": [
    "plt.hist(params_boot)\n",
    "plt.plot(0,0,'*b')"
   ]
  },
  {
   "cell_type": "markdown",
   "metadata": {},
   "source": [
    "We obtain the mean and variance of the estimates."
   ]
  },
  {
   "cell_type": "code",
   "execution_count": 642,
   "metadata": {},
   "outputs": [
    {
     "name": "stdout",
     "output_type": "stream",
     "text": [
      "0.010087465463930334\n",
      "3.4033059748127274e-05\n"
     ]
    }
   ],
   "source": [
    "print(np.mean(params_boot))\n",
    "print(np.var(params_boot))"
   ]
  },
  {
   "cell_type": "code",
   "execution_count": null,
   "metadata": {},
   "outputs": [],
   "source": []
  }
 ],
 "metadata": {
  "kernelspec": {
   "display_name": "Python 3",
   "language": "python",
   "name": "python3"
  },
  "language_info": {
   "codemirror_mode": {
    "name": "ipython",
    "version": 3
   },
   "file_extension": ".py",
   "mimetype": "text/x-python",
   "name": "python",
   "nbconvert_exporter": "python",
   "pygments_lexer": "ipython3",
   "version": "3.8.3"
  }
 },
 "nbformat": 4,
 "nbformat_minor": 4
}
