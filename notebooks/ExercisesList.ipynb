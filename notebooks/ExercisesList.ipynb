{
 "cells": [
  {
   "cell_type": "markdown",
   "metadata": {},
   "source": [
    "# Exercises\n",
    "\n",
    "* You are now going to determine if Nataline Portman acts in good movies. Repeat the experiment in the lecture for the *RT_NataliePortman.csv* file.\n",
    "* In the lecture, we did not explore if the cost of the license to watch each movie is related to the rating. Movie studios could be using the ratings to charge more for better rated movies. Make a similar exercise to the one in the lecture and determine if the license cost is related to the rating.\n",
    "* Use grid search to solve the standard squared-loss function for the following model:\n",
    "$$Rating_i = \\alpha+\\beta Year_i+\\gamma License_i+\\epsilon_i$$\n",
    "You can set a list for the possible values using sequences and a for loop to go trough the values.\n",
    "* Optional: Solve the problem above using gradient search."
   ]
  },
  {
   "cell_type": "code",
   "execution_count": null,
   "metadata": {},
   "outputs": [],
   "source": []
  }
 ],
 "metadata": {
  "kernelspec": {
   "display_name": "Python 3",
   "language": "python",
   "name": "python3"
  },
  "language_info": {
   "codemirror_mode": {
    "name": "ipython",
    "version": 3
   },
   "file_extension": ".py",
   "mimetype": "text/x-python",
   "name": "python",
   "nbconvert_exporter": "python",
   "pygments_lexer": "ipython3",
   "version": "3.8.3"
  }
 },
 "nbformat": 4,
 "nbformat_minor": 4
}
